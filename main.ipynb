{
  "cells": [
    {
      "attachments": {},
      "cell_type": "markdown",
      "metadata": {
        "colab_type": "text",
        "id": "view-in-github"
      },
      "source": [
        "<a href=\"https://colab.research.google.com/github/JorgeVitor30/logicomp-projeto/blob/main/main.ipynb\" target=\"_parent\"><img src=\"https://colab.research.google.com/assets/colab-badge.svg\" alt=\"Open In Colab\"/></a>"
      ]
    },
    {
      "attachments": {},
      "cell_type": "markdown",
      "metadata": {
        "id": "uFYQYRct7Kfs"
      },
      "source": [
        "## Running All pip install necessary\n"
      ]
    },
    {
      "cell_type": "code",
      "execution_count": 46,
      "metadata": {
        "colab": {
          "base_uri": "https://localhost:8080/"
        },
        "id": "h-hMzNqS1Vn1",
        "outputId": "deeb9de6-3e8d-4646-8cd8-7e58207b0069"
      },
      "outputs": [
        {
          "name": "stdout",
          "output_type": "stream",
          "text": [
            "Requirement already satisfied: python-sat in c:\\users\\jonh\\appdata\\local\\packages\\pythonsoftwarefoundation.python.3.11_qbz5n2kfra8p0\\localcache\\local-packages\\python311\\site-packages (0.1.8.dev4)\n",
            "Requirement already satisfied: six in c:\\users\\jonh\\appdata\\local\\packages\\pythonsoftwarefoundation.python.3.11_qbz5n2kfra8p0\\localcache\\local-packages\\python311\\site-packages (from python-sat) (1.16.0)\n"
          ]
        },
        {
          "name": "stderr",
          "output_type": "stream",
          "text": [
            "\n",
            "[notice] A new release of pip available: 22.3.1 -> 23.1.2\n",
            "[notice] To update, run: C:\\Users\\Jonh\\AppData\\Local\\Microsoft\\WindowsApps\\PythonSoftwareFoundation.Python.3.11_qbz5n2kfra8p0\\python.exe -m pip install --upgrade pip\n"
          ]
        },
        {
          "name": "stdout",
          "output_type": "stream",
          "text": [
            "Requirement already satisfied: pysat in c:\\users\\jonh\\appdata\\local\\packages\\pythonsoftwarefoundation.python.3.11_qbz5n2kfra8p0\\localcache\\local-packages\\python311\\site-packages (3.0.6)\n",
            "Requirement already satisfied: dask in c:\\users\\jonh\\appdata\\local\\packages\\pythonsoftwarefoundation.python.3.11_qbz5n2kfra8p0\\localcache\\local-packages\\python311\\site-packages (from pysat) (2023.5.1)\n",
            "Requirement already satisfied: netCDF4 in c:\\users\\jonh\\appdata\\local\\packages\\pythonsoftwarefoundation.python.3.11_qbz5n2kfra8p0\\localcache\\local-packages\\python311\\site-packages (from pysat) (1.6.3)\n",
            "Requirement already satisfied: numpy in c:\\users\\jonh\\appdata\\local\\packages\\pythonsoftwarefoundation.python.3.11_qbz5n2kfra8p0\\localcache\\local-packages\\python311\\site-packages (from pysat) (1.24.3)\n",
            "Requirement already satisfied: pandas in c:\\users\\jonh\\appdata\\local\\packages\\pythonsoftwarefoundation.python.3.11_qbz5n2kfra8p0\\localcache\\local-packages\\python311\\site-packages (from pysat) (2.0.1)\n",
            "Requirement already satisfied: portalocker in c:\\users\\jonh\\appdata\\local\\packages\\pythonsoftwarefoundation.python.3.11_qbz5n2kfra8p0\\localcache\\local-packages\\python311\\site-packages (from pysat) (2.7.0)\n",
            "Requirement already satisfied: pytest in c:\\users\\jonh\\appdata\\local\\packages\\pythonsoftwarefoundation.python.3.11_qbz5n2kfra8p0\\localcache\\local-packages\\python311\\site-packages (from pysat) (7.3.1)\n",
            "Requirement already satisfied: scipy in c:\\users\\jonh\\appdata\\local\\packages\\pythonsoftwarefoundation.python.3.11_qbz5n2kfra8p0\\localcache\\local-packages\\python311\\site-packages (from pysat) (1.10.1)\n",
            "Requirement already satisfied: toolz in c:\\users\\jonh\\appdata\\local\\packages\\pythonsoftwarefoundation.python.3.11_qbz5n2kfra8p0\\localcache\\local-packages\\python311\\site-packages (from pysat) (0.12.0)\n",
            "Requirement already satisfied: xarray in c:\\users\\jonh\\appdata\\local\\packages\\pythonsoftwarefoundation.python.3.11_qbz5n2kfra8p0\\localcache\\local-packages\\python311\\site-packages (from pysat) (2023.5.0)\n",
            "Requirement already satisfied: click>=8.0 in c:\\users\\jonh\\appdata\\local\\packages\\pythonsoftwarefoundation.python.3.11_qbz5n2kfra8p0\\localcache\\local-packages\\python311\\site-packages (from dask->pysat) (8.1.3)\n",
            "Requirement already satisfied: cloudpickle>=1.5.0 in c:\\users\\jonh\\appdata\\local\\packages\\pythonsoftwarefoundation.python.3.11_qbz5n2kfra8p0\\localcache\\local-packages\\python311\\site-packages (from dask->pysat) (2.2.1)\n",
            "Requirement already satisfied: fsspec>=2021.09.0 in c:\\users\\jonh\\appdata\\local\\packages\\pythonsoftwarefoundation.python.3.11_qbz5n2kfra8p0\\localcache\\local-packages\\python311\\site-packages (from dask->pysat) (2023.5.0)\n",
            "Requirement already satisfied: packaging>=20.0 in c:\\users\\jonh\\appdata\\local\\packages\\pythonsoftwarefoundation.python.3.11_qbz5n2kfra8p0\\localcache\\local-packages\\python311\\site-packages (from dask->pysat) (23.0)\n",
            "Requirement already satisfied: partd>=1.2.0 in c:\\users\\jonh\\appdata\\local\\packages\\pythonsoftwarefoundation.python.3.11_qbz5n2kfra8p0\\localcache\\local-packages\\python311\\site-packages (from dask->pysat) (1.4.0)\n",
            "Requirement already satisfied: pyyaml>=5.3.1 in c:\\users\\jonh\\appdata\\local\\packages\\pythonsoftwarefoundation.python.3.11_qbz5n2kfra8p0\\localcache\\local-packages\\python311\\site-packages (from dask->pysat) (6.0)\n",
            "Requirement already satisfied: importlib-metadata>=4.13.0 in c:\\users\\jonh\\appdata\\local\\packages\\pythonsoftwarefoundation.python.3.11_qbz5n2kfra8p0\\localcache\\local-packages\\python311\\site-packages (from dask->pysat) (6.6.0)\n",
            "Requirement already satisfied: cftime in c:\\users\\jonh\\appdata\\local\\packages\\pythonsoftwarefoundation.python.3.11_qbz5n2kfra8p0\\localcache\\local-packages\\python311\\site-packages (from netCDF4->pysat) (1.6.2)\n",
            "Requirement already satisfied: python-dateutil>=2.8.2 in c:\\users\\jonh\\appdata\\local\\packages\\pythonsoftwarefoundation.python.3.11_qbz5n2kfra8p0\\localcache\\local-packages\\python311\\site-packages (from pandas->pysat) (2.8.2)\n",
            "Requirement already satisfied: pytz>=2020.1 in c:\\users\\jonh\\appdata\\local\\packages\\pythonsoftwarefoundation.python.3.11_qbz5n2kfra8p0\\localcache\\local-packages\\python311\\site-packages (from pandas->pysat) (2023.3)\n",
            "Requirement already satisfied: tzdata>=2022.1 in c:\\users\\jonh\\appdata\\local\\packages\\pythonsoftwarefoundation.python.3.11_qbz5n2kfra8p0\\localcache\\local-packages\\python311\\site-packages (from pandas->pysat) (2023.3)\n",
            "Requirement already satisfied: pywin32>=226 in c:\\users\\jonh\\appdata\\local\\packages\\pythonsoftwarefoundation.python.3.11_qbz5n2kfra8p0\\localcache\\local-packages\\python311\\site-packages (from portalocker->pysat) (306)\n",
            "Requirement already satisfied: iniconfig in c:\\users\\jonh\\appdata\\local\\packages\\pythonsoftwarefoundation.python.3.11_qbz5n2kfra8p0\\localcache\\local-packages\\python311\\site-packages (from pytest->pysat) (2.0.0)\n",
            "Requirement already satisfied: pluggy<2.0,>=0.12 in c:\\users\\jonh\\appdata\\local\\packages\\pythonsoftwarefoundation.python.3.11_qbz5n2kfra8p0\\localcache\\local-packages\\python311\\site-packages (from pytest->pysat) (1.0.0)\n",
            "Requirement already satisfied: colorama in c:\\users\\jonh\\appdata\\local\\packages\\pythonsoftwarefoundation.python.3.11_qbz5n2kfra8p0\\localcache\\local-packages\\python311\\site-packages (from pytest->pysat) (0.4.6)\n",
            "Requirement already satisfied: zipp>=0.5 in c:\\users\\jonh\\appdata\\local\\packages\\pythonsoftwarefoundation.python.3.11_qbz5n2kfra8p0\\localcache\\local-packages\\python311\\site-packages (from importlib-metadata>=4.13.0->dask->pysat) (3.15.0)\n",
            "Requirement already satisfied: locket in c:\\users\\jonh\\appdata\\local\\packages\\pythonsoftwarefoundation.python.3.11_qbz5n2kfra8p0\\localcache\\local-packages\\python311\\site-packages (from partd>=1.2.0->dask->pysat) (1.0.0)\n",
            "Requirement already satisfied: six>=1.5 in c:\\users\\jonh\\appdata\\local\\packages\\pythonsoftwarefoundation.python.3.11_qbz5n2kfra8p0\\localcache\\local-packages\\python311\\site-packages (from python-dateutil>=2.8.2->pandas->pysat) (1.16.0)\n"
          ]
        },
        {
          "name": "stderr",
          "output_type": "stream",
          "text": [
            "\n",
            "[notice] A new release of pip available: 22.3.1 -> 23.1.2\n",
            "[notice] To update, run: C:\\Users\\Jonh\\AppData\\Local\\Microsoft\\WindowsApps\\PythonSoftwareFoundation.Python.3.11_qbz5n2kfra8p0\\python.exe -m pip install --upgrade pip\n"
          ]
        }
      ],
      "source": [
        "!pip install python-sat\n",
        "!pip install pysat"
      ]
    },
    {
      "attachments": {},
      "cell_type": "markdown",
      "metadata": {
        "id": "2z5TiUII6qod"
      },
      "source": [
        "## Importing All functions and formulas"
      ]
    },
    {
      "cell_type": "code",
      "execution_count": 47,
      "metadata": {
        "id": "82zKD7JE6Oe7"
      },
      "outputs": [],
      "source": [
        "from formula import *\n",
        "from functions import *\n",
        "\n",
        "from pysat.solvers import Glucose3, Solver\n",
        "from pysat.formula import IDPool\n",
        "\n"
      ]
    },
    {
      "attachments": {},
      "cell_type": "markdown",
      "metadata": {
        "id": "8Vlhwky869TM"
      },
      "source": [
        "## Inicitialization Solver"
      ]
    },
    {
      "cell_type": "code",
      "execution_count": 48,
      "metadata": {
        "id": "4QP4uOb4031V"
      },
      "outputs": [],
      "source": [
        "g = Glucose3()"
      ]
    },
    {
      "attachments": {},
      "cell_type": "markdown",
      "metadata": {
        "id": "aO_XreLH76gs"
      },
      "source": [
        "## Getting All values (slots, courses, common_courses)"
      ]
    },
    {
      "cell_type": "code",
      "execution_count": 49,
      "metadata": {
        "id": "NBm1IBky75-Y"
      },
      "outputs": [],
      "source": [
        "slots = int(get_count_slots())\n",
        "courses = get_all_courses()\n",
        "## common_inscriptions_courses = get_time_pairs()\n",
        "common_inscriptions_courses = [[1,2],[2,3],[2,4],[3,4]]"
      ]
    },
    {
      "attachments": {},
      "cell_type": "markdown",
      "metadata": {
        "id": "2w7VYAp49BjU"
      },
      "source": [
        "## Applying all restrictions"
      ]
    },
    {
      "cell_type": "code",
      "execution_count": 50,
      "metadata": {
        "id": "IbRHiMJC9A3l"
      },
      "outputs": [
        {
          "name": "stdout",
          "output_type": "stream",
          "text": [
            "RESTRIÇÕES DE INSCRIÇÕES EM COMUM\n",
            "((((((¬(x_1_1 ∧ x_2_1)) ∧ (¬(x_1_2 ∧ x_2_2))) ∧ (¬(x_1_3 ∧ x_2_3))) ∧ (((¬(x_2_1 ∧ x_3_1)) ∧ (¬(x_2_2 ∧ x_3_2))) ∧ (¬(x_2_3 ∧ x_3_3)))) ∧ (((¬(x_2_1 ∧ x_4_1)) ∧ (¬(x_2_2 ∧ x_4_2))) ∧ (¬(x_2_3 ∧ x_4_3)))) ∧ (((¬(x_3_1 ∧ x_4_1)) ∧ (¬(x_3_2 ∧ x_4_2))) ∧ (¬(x_3_3 ∧ x_4_3))))\n",
            "RESTRIÇÕES DE MINIMO 1\n",
            "(((((x_1_1 ∨ x_1_2) ∨ x_1_3) ∧ ((x_2_1 ∨ x_2_2) ∨ x_2_3)) ∧ ((x_3_1 ∨ x_3_2) ∨ x_3_3)) ∧ ((x_4_1 ∨ x_4_2) ∨ x_4_3))\n",
            "RESTRIÇÕES DE MÁXIMO 1\n",
            "((((((¬(x_1_1 ∧ x_1_2)) ∧ (¬(x_1_1 ∧ x_1_3))) ∧ (¬(x_1_2 ∧ x_1_3))) ∧ (((¬(x_2_1 ∧ x_2_2)) ∧ (¬(x_2_1 ∧ x_2_3))) ∧ (¬(x_2_2 ∧ x_2_3)))) ∧ (((¬(x_3_1 ∧ x_3_2)) ∧ (¬(x_3_1 ∧ x_3_3))) ∧ (¬(x_3_2 ∧ x_3_3)))) ∧ (((¬(x_4_1 ∧ x_4_2)) ∧ (¬(x_4_1 ∧ x_4_3))) ∧ (¬(x_4_2 ∧ x_4_3))))\n"
          ]
        }
      ],
      "source": [
        "for x in range(0, len(common_inscriptions_courses)):\n",
        "    if x == 0:\n",
        "\n",
        "        common_inscriptions_courses_restrictions = turn_common_inscriptions_pair_minicourses_to_propositional_logic(common_inscriptions_courses[0][0], common_inscriptions_courses[0][1], slots)\n",
        "    else:\n",
        "        common_inscriptions_courses_restrictions = And(common_inscriptions_courses_restrictions, turn_common_inscriptions_pair_minicourses_to_propositional_logic(common_inscriptions_courses[x][0], common_inscriptions_courses[x][1], slots))\n",
        "    \n",
        "\n",
        "\n",
        "for x in range(0, len(courses)):\n",
        "    if x == 0:\n",
        "        at_least_in_one_slot_restrictions = at_least_in_one_slot(x + 1, slots)\n",
        "        max_in_one_slot_restrictions = max_in_one_slot(x + 1, slots)\n",
        "    else:\n",
        "        at_least_in_one_slot_restrictions = And(at_least_in_one_slot_restrictions, at_least_in_one_slot(x + 1, slots))\n",
        "        max_in_one_slot_restrictions = And(max_in_one_slot_restrictions, max_in_one_slot(x + 1, slots))\n",
        "\n",
        "print(\"RESTRIÇÕES DE INSCRIÇÕES EM COMUM\")\n",
        "print(common_inscriptions_courses_restrictions)\n",
        "print(\"RESTRIÇÕES DE MINIMO 1\")\n",
        "print(at_least_in_one_slot_restrictions)\n",
        "print(\"RESTRIÇÕES DE MÁXIMO 1\")\n",
        "print(max_in_one_slot_restrictions)\n",
        "\n",
        "all_restrictions = And(And(max_in_one_slot_restrictions, at_least_in_one_slot_restrictions), common_inscriptions_courses_restrictions)"
      ]
    },
    {
      "attachments": {},
      "cell_type": "markdown",
      "metadata": {
        "id": "dZUW6wC59Zek"
      },
      "source": [
        "## Transforming to CNF form"
      ]
    },
    {
      "cell_type": "code",
      "execution_count": 51,
      "metadata": {
        "colab": {
          "base_uri": "https://localhost:8080/"
        },
        "id": "pTG_31Wg9Y4e",
        "outputId": "ccb1cf63-317c-400d-a895-ce8e0ebc6c66"
      },
      "outputs": [
        {
          "name": "stdout",
          "output_type": "stream",
          "text": [
            "['¬x_1_1', '¬x_1_2', '¬x_1_3', '¬x_2_1', '¬x_2_2', '¬x_2_3', '¬x_3_1', '¬x_3_2', '¬x_3_3', '¬x_4_1', '¬x_4_2', '¬x_4_3', 'x_1_1', 'x_1_2', 'x_1_3', 'x_2_1', 'x_2_2', 'x_2_3', 'x_3_1', 'x_3_2', 'x_3_3', 'x_4_1', 'x_4_2', 'x_4_3']\n",
            "[-1, -2, -3, -4, -5, -6, -7, -8, -9, -10, -11, -12, 1, 2, 3, 4, 5, 6, 7, 8, 9, 10, 11, 12]\n"
          ]
        }
      ],
      "source": [
        "cnf_restrictions = cnf(all_restrictions)\n",
        "\n",
        "\n",
        "clause_form_restrictions =  parse_cnf_to_clause_form(cnf_restrictions)\n",
        "\n",
        "id_clauses = parse_clauses_to_id(clause_form_restrictions)\n",
        "\n",
        "\n",
        "clause_set = []\n",
        "id_clause_set = []\n",
        "\n",
        "for clause in clause_form_restrictions:\n",
        "    for literal in clause:\n",
        "        if literal not in clause_set:\n",
        "            clause_set.append(literal)\n",
        "\n",
        "for clause in id_clauses:\n",
        "    for literal in clause:\n",
        "        if literal not in id_clause_set:\n",
        "            id_clause_set.append(literal)\n",
        "        \n",
        "\n",
        "print(clause_set)\n",
        "print(id_clause_set)"
      ]
    },
    {
      "attachments": {},
      "cell_type": "markdown",
      "metadata": {
        "id": "kDpvy6su911M"
      },
      "source": [
        "## Verify Satisfability and getting Valoration"
      ]
    },
    {
      "cell_type": "code",
      "execution_count": 52,
      "metadata": {
        "colab": {
          "base_uri": "https://localhost:8080/"
        },
        "id": "TU5-wxv608DT",
        "outputId": "5a6b18dd-a7e5-4fc0-a974-2f62361ed24b"
      },
      "outputs": [
        {
          "name": "stdout",
          "output_type": "stream",
          "text": [
            "[1, -2, -3, -4, -5, 6, -7, 8, -9, 10, -11, -12]\n",
            "['x_1_1', 'x_2_3', 'x_3_2', 'x_4_1']\n",
            "O curso 1 ficará no horário 1\n",
            "O curso 2 ficará no horário 3\n",
            "O curso 3 ficará no horário 2\n",
            "O curso 4 ficará no horário 1\n"
          ]
        }
      ],
      "source": [
        "g.append_formula(id_clauses)\n",
        "g.solve()\n",
        "valoration =  g.get_model()\n",
        "\n",
        "\n",
        "output = []\n",
        "\n",
        "print(valoration)\n",
        "for id in valoration:\n",
        "    if id > 0:\n",
        "        output.append(clause_set[id_clause_set.index(id)])\n",
        "\n",
        "print(output)\n",
        "\n",
        "for course_variable in output:\n",
        "    print(f\"O curso {course_variable[2]} ficará no horário {course_variable[4]}\")\n"
      ]
    }
  ],
  "metadata": {
    "colab": {
      "authorship_tag": "ABX9TyONjziy6Nrbap91hy86SMzs",
      "include_colab_link": true,
      "provenance": []
    },
    "kernelspec": {
      "display_name": "Python 3",
      "name": "python3"
    },
    "language_info": {
      "name": "python"
    }
  },
  "nbformat": 4,
  "nbformat_minor": 0
}
