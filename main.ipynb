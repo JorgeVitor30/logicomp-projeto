{
  "cells": [
    {
      "attachments": {},
      "cell_type": "markdown",
      "metadata": {
        "colab_type": "text",
        "id": "view-in-github"
      },
      "source": [
        "<a href=\"https://colab.research.google.com/github/JorgeVitor30/logicomp-projeto/blob/main/main.ipynb\" target=\"_parent\"><img src=\"https://colab.research.google.com/assets/colab-badge.svg\" alt=\"Open In Colab\"/></a>"
      ]
    },
    {
      "attachments": {},
      "cell_type": "markdown",
      "metadata": {
        "id": "uFYQYRct7Kfs"
      },
      "source": [
        "## Running All pip install necessary\n"
      ]
    },
    {
      "cell_type": "code",
      "execution_count": 264,
      "metadata": {
        "colab": {
          "base_uri": "https://localhost:8080/"
        },
        "id": "h-hMzNqS1Vn1",
        "outputId": "deeb9de6-3e8d-4646-8cd8-7e58207b0069"
      },
      "outputs": [
        {
          "name": "stdout",
          "output_type": "stream",
          "text": [
            "Requirement already satisfied: python-sat in c:\\users\\jonh\\appdata\\local\\packages\\pythonsoftwarefoundation.python.3.11_qbz5n2kfra8p0\\localcache\\local-packages\\python311\\site-packages (0.1.8.dev4)\n",
            "Requirement already satisfied: six in c:\\users\\jonh\\appdata\\local\\packages\\pythonsoftwarefoundation.python.3.11_qbz5n2kfra8p0\\localcache\\local-packages\\python311\\site-packages (from python-sat) (1.16.0)\n"
          ]
        },
        {
          "name": "stderr",
          "output_type": "stream",
          "text": [
            "\n",
            "[notice] A new release of pip available: 22.3.1 -> 23.1.2\n",
            "[notice] To update, run: C:\\Users\\Jonh\\AppData\\Local\\Microsoft\\WindowsApps\\PythonSoftwareFoundation.Python.3.11_qbz5n2kfra8p0\\python.exe -m pip install --upgrade pip\n"
          ]
        },
        {
          "name": "stdout",
          "output_type": "stream",
          "text": [
            "Requirement already satisfied: pysat in c:\\users\\jonh\\appdata\\local\\packages\\pythonsoftwarefoundation.python.3.11_qbz5n2kfra8p0\\localcache\\local-packages\\python311\\site-packages (3.0.6)\n",
            "Requirement already satisfied: dask in c:\\users\\jonh\\appdata\\local\\packages\\pythonsoftwarefoundation.python.3.11_qbz5n2kfra8p0\\localcache\\local-packages\\python311\\site-packages (from pysat) (2023.5.1)\n",
            "Requirement already satisfied: netCDF4 in c:\\users\\jonh\\appdata\\local\\packages\\pythonsoftwarefoundation.python.3.11_qbz5n2kfra8p0\\localcache\\local-packages\\python311\\site-packages (from pysat) (1.6.3)\n",
            "Requirement already satisfied: numpy in c:\\users\\jonh\\appdata\\local\\packages\\pythonsoftwarefoundation.python.3.11_qbz5n2kfra8p0\\localcache\\local-packages\\python311\\site-packages (from pysat) (1.24.3)\n",
            "Requirement already satisfied: pandas in c:\\users\\jonh\\appdata\\local\\packages\\pythonsoftwarefoundation.python.3.11_qbz5n2kfra8p0\\localcache\\local-packages\\python311\\site-packages (from pysat) (2.0.1)\n",
            "Requirement already satisfied: portalocker in c:\\users\\jonh\\appdata\\local\\packages\\pythonsoftwarefoundation.python.3.11_qbz5n2kfra8p0\\localcache\\local-packages\\python311\\site-packages (from pysat) (2.7.0)\n",
            "Requirement already satisfied: pytest in c:\\users\\jonh\\appdata\\local\\packages\\pythonsoftwarefoundation.python.3.11_qbz5n2kfra8p0\\localcache\\local-packages\\python311\\site-packages (from pysat) (7.3.1)\n",
            "Requirement already satisfied: scipy in c:\\users\\jonh\\appdata\\local\\packages\\pythonsoftwarefoundation.python.3.11_qbz5n2kfra8p0\\localcache\\local-packages\\python311\\site-packages (from pysat) (1.10.1)\n",
            "Requirement already satisfied: toolz in c:\\users\\jonh\\appdata\\local\\packages\\pythonsoftwarefoundation.python.3.11_qbz5n2kfra8p0\\localcache\\local-packages\\python311\\site-packages (from pysat) (0.12.0)\n",
            "Requirement already satisfied: xarray in c:\\users\\jonh\\appdata\\local\\packages\\pythonsoftwarefoundation.python.3.11_qbz5n2kfra8p0\\localcache\\local-packages\\python311\\site-packages (from pysat) (2023.5.0)\n",
            "Requirement already satisfied: click>=8.0 in c:\\users\\jonh\\appdata\\local\\packages\\pythonsoftwarefoundation.python.3.11_qbz5n2kfra8p0\\localcache\\local-packages\\python311\\site-packages (from dask->pysat) (8.1.3)\n",
            "Requirement already satisfied: cloudpickle>=1.5.0 in c:\\users\\jonh\\appdata\\local\\packages\\pythonsoftwarefoundation.python.3.11_qbz5n2kfra8p0\\localcache\\local-packages\\python311\\site-packages (from dask->pysat) (2.2.1)\n",
            "Requirement already satisfied: fsspec>=2021.09.0 in c:\\users\\jonh\\appdata\\local\\packages\\pythonsoftwarefoundation.python.3.11_qbz5n2kfra8p0\\localcache\\local-packages\\python311\\site-packages (from dask->pysat) (2023.5.0)\n",
            "Requirement already satisfied: packaging>=20.0 in c:\\users\\jonh\\appdata\\local\\packages\\pythonsoftwarefoundation.python.3.11_qbz5n2kfra8p0\\localcache\\local-packages\\python311\\site-packages (from dask->pysat) (23.0)\n",
            "Requirement already satisfied: partd>=1.2.0 in c:\\users\\jonh\\appdata\\local\\packages\\pythonsoftwarefoundation.python.3.11_qbz5n2kfra8p0\\localcache\\local-packages\\python311\\site-packages (from dask->pysat) (1.4.0)\n",
            "Requirement already satisfied: pyyaml>=5.3.1 in c:\\users\\jonh\\appdata\\local\\packages\\pythonsoftwarefoundation.python.3.11_qbz5n2kfra8p0\\localcache\\local-packages\\python311\\site-packages (from dask->pysat) (6.0)\n",
            "Requirement already satisfied: importlib-metadata>=4.13.0 in c:\\users\\jonh\\appdata\\local\\packages\\pythonsoftwarefoundation.python.3.11_qbz5n2kfra8p0\\localcache\\local-packages\\python311\\site-packages (from dask->pysat) (6.6.0)\n",
            "Requirement already satisfied: cftime in c:\\users\\jonh\\appdata\\local\\packages\\pythonsoftwarefoundation.python.3.11_qbz5n2kfra8p0\\localcache\\local-packages\\python311\\site-packages (from netCDF4->pysat) (1.6.2)\n",
            "Requirement already satisfied: python-dateutil>=2.8.2 in c:\\users\\jonh\\appdata\\local\\packages\\pythonsoftwarefoundation.python.3.11_qbz5n2kfra8p0\\localcache\\local-packages\\python311\\site-packages (from pandas->pysat) (2.8.2)\n",
            "Requirement already satisfied: pytz>=2020.1 in c:\\users\\jonh\\appdata\\local\\packages\\pythonsoftwarefoundation.python.3.11_qbz5n2kfra8p0\\localcache\\local-packages\\python311\\site-packages (from pandas->pysat) (2023.3)\n",
            "Requirement already satisfied: tzdata>=2022.1 in c:\\users\\jonh\\appdata\\local\\packages\\pythonsoftwarefoundation.python.3.11_qbz5n2kfra8p0\\localcache\\local-packages\\python311\\site-packages (from pandas->pysat) (2023.3)\n",
            "Requirement already satisfied: pywin32>=226 in c:\\users\\jonh\\appdata\\local\\packages\\pythonsoftwarefoundation.python.3.11_qbz5n2kfra8p0\\localcache\\local-packages\\python311\\site-packages (from portalocker->pysat) (306)\n",
            "Requirement already satisfied: iniconfig in c:\\users\\jonh\\appdata\\local\\packages\\pythonsoftwarefoundation.python.3.11_qbz5n2kfra8p0\\localcache\\local-packages\\python311\\site-packages (from pytest->pysat) (2.0.0)\n",
            "Requirement already satisfied: pluggy<2.0,>=0.12 in c:\\users\\jonh\\appdata\\local\\packages\\pythonsoftwarefoundation.python.3.11_qbz5n2kfra8p0\\localcache\\local-packages\\python311\\site-packages (from pytest->pysat) (1.0.0)\n",
            "Requirement already satisfied: colorama in c:\\users\\jonh\\appdata\\local\\packages\\pythonsoftwarefoundation.python.3.11_qbz5n2kfra8p0\\localcache\\local-packages\\python311\\site-packages (from pytest->pysat) (0.4.6)\n",
            "Requirement already satisfied: zipp>=0.5 in c:\\users\\jonh\\appdata\\local\\packages\\pythonsoftwarefoundation.python.3.11_qbz5n2kfra8p0\\localcache\\local-packages\\python311\\site-packages (from importlib-metadata>=4.13.0->dask->pysat) (3.15.0)\n",
            "Requirement already satisfied: locket in c:\\users\\jonh\\appdata\\local\\packages\\pythonsoftwarefoundation.python.3.11_qbz5n2kfra8p0\\localcache\\local-packages\\python311\\site-packages (from partd>=1.2.0->dask->pysat) (1.0.0)\n",
            "Requirement already satisfied: six>=1.5 in c:\\users\\jonh\\appdata\\local\\packages\\pythonsoftwarefoundation.python.3.11_qbz5n2kfra8p0\\localcache\\local-packages\\python311\\site-packages (from python-dateutil>=2.8.2->pandas->pysat) (1.16.0)\n"
          ]
        },
        {
          "name": "stderr",
          "output_type": "stream",
          "text": [
            "\n",
            "[notice] A new release of pip available: 22.3.1 -> 23.1.2\n",
            "[notice] To update, run: C:\\Users\\Jonh\\AppData\\Local\\Microsoft\\WindowsApps\\PythonSoftwareFoundation.Python.3.11_qbz5n2kfra8p0\\python.exe -m pip install --upgrade pip\n"
          ]
        }
      ],
      "source": [
        "!pip install python-sat\n",
        "!pip install pysat"
      ]
    },
    {
      "attachments": {},
      "cell_type": "markdown",
      "metadata": {
        "id": "2z5TiUII6qod"
      },
      "source": [
        "## Importing All functions and formulas"
      ]
    },
    {
      "cell_type": "code",
      "execution_count": 265,
      "metadata": {
        "id": "82zKD7JE6Oe7"
      },
      "outputs": [],
      "source": [
        "from formula import *\n",
        "from functions import *\n",
        "\n",
        "from pysat.solvers import Glucose3\n",
        "\n"
      ]
    },
    {
      "attachments": {},
      "cell_type": "markdown",
      "metadata": {
        "id": "8Vlhwky869TM"
      },
      "source": [
        "## Inicitialization Solver"
      ]
    },
    {
      "cell_type": "code",
      "execution_count": 266,
      "metadata": {
        "id": "4QP4uOb4031V"
      },
      "outputs": [],
      "source": [
        "solver = Glucose3()"
      ]
    },
    {
      "attachments": {},
      "cell_type": "markdown",
      "metadata": {},
      "source": [
        "## Read file functions"
      ]
    },
    {
      "cell_type": "code",
      "execution_count": 267,
      "metadata": {},
      "outputs": [],
      "source": [
        "def open_archive():\n",
        "    with open(\"input.txt\", \"r\") as archive:\n",
        "        lines = archive.readlines()\n",
        "    return lines\n",
        "\n",
        "def get_all_courses():\n",
        "\n",
        "    lines = open_archive()\n",
        "\n",
        "\n",
        "    list_courses = []\n",
        "    for line in lines:\n",
        "        if line.startswith('# Minicursos'):\n",
        "            continue\n",
        "        if line.startswith('#'):\n",
        "            break\n",
        "        list_courses.append(line.split(' ')[1])\n",
        "\n",
        "    qtd_courses = len(list_courses)\n",
        "\n",
        "    minicourses = {}\n",
        "\n",
        "    for x in range(0,qtd_courses):\n",
        "        minicourses[x+1] = list_courses[x]\n",
        "\n",
        "    return minicourses\n",
        "\n",
        "\n",
        "def get_count_slots():\n",
        "    lines = open_archive()\n",
        "\n",
        "    list_line = []\n",
        "        \n",
        "    for line in lines:\n",
        "        if line.startswith('# Minicursos'):\n",
        "            continue\n",
        "\n",
        "        list_line.append(line.split(' ')[2])\n",
        "        \n",
        "        if 'Slots' in line:\n",
        "            num = line.split()\n",
        "            slot = num[2]\n",
        "\n",
        "    return slot\n",
        "    \n",
        "\n",
        "def get_time_pairs():\n",
        "    lines = open_archive()\n",
        "\n",
        "    list_courses = []\n",
        "    \n",
        "    found_pairs = False\n",
        "\n",
        "    for line in lines:\n",
        "        if found_pairs:\n",
        "            minicourse1, minicourse2 = line.split(' ')[:2]\n",
        "            \n",
        "            list_courses.append((int(minicourse1), int(minicourse2)))\n",
        "            \n",
        "        elif line.startswith('# Pares de minicursos com inscrições em comum:'):\n",
        "            found_pairs = True\n",
        "   \n",
        "    return list_courses "
      ]
    },
    {
      "attachments": {},
      "cell_type": "markdown",
      "metadata": {},
      "source": [
        "## Conjunctive Normal Form (CNF) functions\n",
        "Based on Tiago Alves's videos."
      ]
    },
    {
      "cell_type": "code",
      "execution_count": 268,
      "metadata": {},
      "outputs": [],
      "source": [
        "def implication_free(formula):\n",
        "    if (isinstance(formula, Implies) or isinstance(formula, Or) or isinstance(formula, And)):\n",
        "        left = implication_free(formula.left)\n",
        "        right = implication_free(formula.right)\n",
        "        \n",
        "        if (isinstance(formula, Implies)):\n",
        "            return (Or(Not(left), right))\n",
        "        \n",
        "        if (isinstance(formula, Or)):\n",
        "            return Or(left, right)\n",
        "        \n",
        "        if (isinstance(formula, And)):\n",
        "            return And(left, right)\n",
        "        \n",
        "    if (isinstance(formula, Not)):\n",
        "        inner = implication_free(formula.inner)\n",
        "        return Not(inner)\n",
        "    \n",
        "    if (isinstance(formula, Atom)):\n",
        "        return formula\n",
        "    return formula\n",
        "\n",
        "\n",
        "def negation_normal_form(formula):    \n",
        "    if (isinstance(formula, Not) and isinstance(formula.inner, Not)):\n",
        "        removed_double_negation_formula = formula.inner.inner\n",
        "        return negation_normal_form(removed_double_negation_formula)\n",
        "    \n",
        "    if (isinstance(formula, Or)):\n",
        "            return Or(negation_normal_form(formula.left), negation_normal_form(formula.right))\n",
        "        \n",
        "    if (isinstance(formula, And)):\n",
        "            return And(negation_normal_form(formula.left), negation_normal_form(formula.right))\n",
        "        \n",
        "    if (isinstance(formula, Not)):\n",
        "        inner_formula = formula.inner\n",
        "\n",
        "        if (isinstance(inner_formula, Or)):\n",
        "                return And(negation_normal_form(Not((inner_formula.left))), negation_normal_form(Not(inner_formula.right)))\n",
        "            \n",
        "        if (isinstance(inner_formula, And)):\n",
        "                return Or(negation_normal_form(Not(inner_formula.left)), negation_normal_form(Not(inner_formula.right)))\n",
        "    \n",
        "    if (isinstance(formula, Atom) or (isinstance(formula, Not) and isinstance(formula.inner, Atom))):\n",
        "        return formula\n",
        "    \n",
        "    return formula\n",
        "\n",
        "\n",
        "def distributive(formula):\n",
        "    if (isinstance(formula, And)):\n",
        "        return And(distributive(formula.left), distributive(formula.right))\n",
        "    \n",
        "    if (isinstance(formula, Or)):\n",
        "        left = distributive(formula.left)\n",
        "        right = distributive(formula.right)\n",
        "        if (isinstance(left, And)):\n",
        "            return And(distributive(Or(left.left, right)), distributive(Or(left.right, right)))\n",
        "        \n",
        "        if (isinstance(right, And)):\n",
        "            return And(distributive(Or(left, right.left)), distributive(Or(left, right.right)))\n",
        "        \n",
        "    if (isinstance(formula, Atom) or (isinstance(formula, Not) and isinstance(formula.inner, Atom))):\n",
        "        return formula\n",
        "    \n",
        "    return formula\n",
        "\n",
        "\n",
        "def cnf(formula):\n",
        "    implication_free_formula = implication_free(formula)\n",
        "    nnf_formula = negation_normal_form(implication_free_formula)\n",
        "    cnf_formula = distributive(nnf_formula)\n",
        "\n",
        "    return cnf_formula"
      ]
    },
    {
      "attachments": {},
      "cell_type": "markdown",
      "metadata": {},
      "source": [
        "## Restrictions functions\n",
        "### These functions apply the three restrictions of the problem:\n",
        "1. One course have to be in almost one slot (at_least_in_one_slot)\n",
        "2. One course can't be in more than one slot (max_in_one_slot)\n",
        "3. Two courses with common inscriptions can't be in the same slot (turn_common_inscriptions_pair_minicourses_to_propositional_logic)"
      ]
    },
    {
      "cell_type": "code",
      "execution_count": 269,
      "metadata": {},
      "outputs": [],
      "source": [
        "def turn_common_inscriptions_pair_minicourses_to_propositional_logic(cx, cy, slots):\n",
        "    firstCourseInFirstSlot = Atom(f\"x_{cx}_1\")\n",
        "    secondCourseInFirstSlot = Atom(f\"x_{cy}_1\")\n",
        "    formula = Not(And(firstCourseInFirstSlot, secondCourseInFirstSlot))\n",
        "\n",
        "    for slot in range(2, slots+1):\n",
        "        formula = And(formula, Not(And(Atom(f\"x_{cx}_{slot}\"), Atom(f\"x_{cy}_{slot}\"))))\n",
        "    \n",
        "\n",
        "    return formula\n",
        "\n",
        "\n",
        "def at_least_in_one_slot(cx, slots):\n",
        "    firstCourseInFirstSlot = Atom(f\"x_{cx}_1\")\n",
        "    formula = firstCourseInFirstSlot\n",
        "\n",
        "    for slot in range(2, slots+1):\n",
        "        formula = Or(formula, Atom(f\"x_{cx}_{slot}\"))\n",
        "\n",
        "    return formula\n",
        "\n",
        "def max_in_one_slot(cx, slots):\n",
        "\n",
        "    for x in range(1, slots + 1):\n",
        "        for y in range(x + 1, slots + 1):\n",
        "            not_in_two_slots = Not(And(Atom(f\"x_{cx}_{x}\"),Atom(f\"x_{cx}_{y}\")))\n",
        "\n",
        "            if x == 1 and y == 2:\n",
        "                formula = not_in_two_slots\n",
        "\n",
        "            else:\n",
        "                formula = And(formula, Not(And(Atom(f\"x_{cx}_{x}\"),Atom(f\"x_{cx}_{y}\"))))\n",
        "\n",
        "    return formula\n",
        "\n"
      ]
    },
    {
      "attachments": {},
      "cell_type": "markdown",
      "metadata": {},
      "source": [
        "## Adjusting our formulas to pySAT\n",
        "To verify if our formulas are satisfative, we have to pass each literal as a id in pySAT IDPool. To turn it easy, we parse the CNF formula to clause form."
      ]
    },
    {
      "cell_type": "code",
      "execution_count": 270,
      "metadata": {},
      "outputs": [],
      "source": [
        "from pysat.formula import IDPool\n",
        "\n",
        "def parse_cnf_to_clause_form(formula):\n",
        "    string_formula = str(formula)\n",
        "    string_formula_without_parentesis = string_formula.replace(\"(\", \"\").replace(\")\", \"\")\n",
        "    clauses =  string_formula_without_parentesis.split('\\u2227')\n",
        "    for x in range(0, len(clauses)):\n",
        "        clauses[x] = clauses[x].strip().split(' \\u2228 ')\n",
        "\n",
        "    return clauses\n",
        "\n",
        "\n",
        "def parse_clauses_to_id(clauses):\n",
        "    var_pool = IDPool()\n",
        "    id_list = []\n",
        "\n",
        "    for x in range(0, len(clauses)):\n",
        "        actualClause = []\n",
        "        for y in range (0, len(clauses[x])):\n",
        "            if (clauses[x][y][0] == \"\\u00ac\"):\n",
        "                actualClause.append(int(var_pool.id(clauses[x][y].replace(\"\\u00ac\", \"\")) * (-1)))\n",
        "            else:\n",
        "                actualClause.append(int(var_pool.id(clauses[x][y])))\n",
        "        id_list.append(actualClause)\n",
        "\n",
        "    return id_list\n",
        "            "
      ]
    },
    {
      "attachments": {},
      "cell_type": "markdown",
      "metadata": {
        "id": "aO_XreLH76gs"
      },
      "source": [
        "## Reading file to get slots, courses, and common inscriptions courses"
      ]
    },
    {
      "cell_type": "code",
      "execution_count": 271,
      "metadata": {
        "id": "NBm1IBky75-Y"
      },
      "outputs": [
        {
          "name": "stdout",
          "output_type": "stream",
          "text": [
            "{1: 'HTML', 2: 'PHP', 3: 'MySQL', 4: 'Swift'}\n"
          ]
        }
      ],
      "source": [
        "slots = int(get_count_slots())\n",
        "courses = get_all_courses()\n",
        "print(courses)\n",
        "## common_inscriptions_courses = get_time_pairs()\n",
        "common_inscriptions_courses = [[1,2],[2,3],[2,4],[3,4]]"
      ]
    },
    {
      "attachments": {},
      "cell_type": "markdown",
      "metadata": {
        "id": "2w7VYAp49BjU"
      },
      "source": [
        "## Applying all restrictions & parsing to CNF"
      ]
    },
    {
      "cell_type": "code",
      "execution_count": 272,
      "metadata": {
        "id": "IbRHiMJC9A3l"
      },
      "outputs": [],
      "source": [
        "for course_pair in common_inscriptions_courses:\n",
        "    if course_pair == common_inscriptions_courses[0]:\n",
        "\n",
        "        common_inscriptions_courses_restrictions = turn_common_inscriptions_pair_minicourses_to_propositional_logic(course_pair[0], course_pair[1], slots)\n",
        "    else:\n",
        "        common_inscriptions_courses_restrictions = And(common_inscriptions_courses_restrictions, turn_common_inscriptions_pair_minicourses_to_propositional_logic(course_pair[0], course_pair[1], slots))\n",
        "    \n",
        "\n",
        "\n",
        "for course_number in range(1, len(courses) + 1):\n",
        "    if course_number == 1:\n",
        "        at_least_in_one_slot_restrictions = at_least_in_one_slot(course_number, slots)\n",
        "        max_in_one_slot_restrictions = max_in_one_slot(course_number, slots)\n",
        "    else:\n",
        "        at_least_in_one_slot_restrictions = And(at_least_in_one_slot_restrictions, at_least_in_one_slot(course_number, slots))\n",
        "        max_in_one_slot_restrictions = And(max_in_one_slot_restrictions, max_in_one_slot(course_number, slots))\n",
        "\n",
        "\n",
        "all_restrictions = And(And(max_in_one_slot_restrictions, at_least_in_one_slot_restrictions), common_inscriptions_courses_restrictions)\n",
        "cnf_restrictions = cnf(all_restrictions)"
      ]
    },
    {
      "attachments": {},
      "cell_type": "markdown",
      "metadata": {
        "id": "dZUW6wC59Zek"
      },
      "source": [
        "## Parsing CNF formula to id"
      ]
    },
    {
      "cell_type": "code",
      "execution_count": 273,
      "metadata": {
        "colab": {
          "base_uri": "https://localhost:8080/"
        },
        "id": "pTG_31Wg9Y4e",
        "outputId": "ccb1cf63-317c-400d-a895-ce8e0ebc6c66"
      },
      "outputs": [],
      "source": [
        "clause_form_restrictions =  parse_cnf_to_clause_form(cnf_restrictions)\n",
        "\n",
        "id_clauses = parse_clauses_to_id(clause_form_restrictions)\n",
        "\n",
        "\n",
        "clause_set = []\n",
        "id_clause_set = []\n",
        "\n",
        "for clause in clause_form_restrictions:\n",
        "    for literal in clause:\n",
        "        if literal not in clause_set:\n",
        "            clause_set.append(literal)\n",
        "\n",
        "for clause in id_clauses:\n",
        "    for literal in clause:\n",
        "        if literal not in id_clause_set:\n",
        "            id_clause_set.append(literal)\n",
        "        \n"
      ]
    },
    {
      "attachments": {},
      "cell_type": "markdown",
      "metadata": {
        "id": "kDpvy6su911M"
      },
      "source": [
        "## Verify Satisfability and getting Valoration"
      ]
    },
    {
      "cell_type": "code",
      "execution_count": 274,
      "metadata": {
        "colab": {
          "base_uri": "https://localhost:8080/"
        },
        "id": "TU5-wxv608DT",
        "outputId": "5a6b18dd-a7e5-4fc0-a974-2f62361ed24b"
      },
      "outputs": [
        {
          "name": "stdout",
          "output_type": "stream",
          "text": [
            "O curso HTML ficará no slot de horário 2\n",
            "O curso PHP ficará no slot de horário 3\n",
            "O curso MySQL ficará no slot de horário 2\n",
            "O curso Swift ficará no slot de horário 1\n"
          ]
        }
      ],
      "source": [
        "solver.append_formula(id_clauses)\n",
        "solver.solve()\n",
        "valoration =  solver.get_model()\n",
        "\n",
        "\n",
        "truly_course_variables = []\n",
        "\n",
        "for id in valoration:\n",
        "    if id > 0:\n",
        "        truly_course_variables.append(clause_set[id_clause_set.index(id)])\n",
        "\n",
        "for course_variable in truly_course_variables:\n",
        "    course_number = int(course_variable[2])\n",
        "    slot_number = int(course_variable[4])\n",
        "    course_name = courses[course_number]\n",
        "\n",
        "    print(f\"O curso {course_name} ficará no slot de horário {slot_number}\")\n"
      ]
    }
  ],
  "metadata": {
    "colab": {
      "authorship_tag": "ABX9TyONjziy6Nrbap91hy86SMzs",
      "include_colab_link": true,
      "provenance": []
    },
    "kernelspec": {
      "display_name": "Python 3",
      "name": "python3"
    },
    "language_info": {
      "name": "python"
    }
  },
  "nbformat": 4,
  "nbformat_minor": 0
}
