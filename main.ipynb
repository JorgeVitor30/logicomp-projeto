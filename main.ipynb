{
  "nbformat": 4,
  "nbformat_minor": 0,
  "metadata": {
    "colab": {
      "provenance": [],
      "authorship_tag": "ABX9TyONjziy6Nrbap91hy86SMzs",
      "include_colab_link": true
    },
    "kernelspec": {
      "name": "python3",
      "display_name": "Python 3"
    },
    "language_info": {
      "name": "python"
    }
  },
  "cells": [
    {
      "cell_type": "markdown",
      "metadata": {
        "id": "view-in-github",
        "colab_type": "text"
      },
      "source": [
        "<a href=\"https://colab.research.google.com/github/JorgeVitor30/logicomp-projeto/blob/main/main.ipynb\" target=\"_parent\"><img src=\"https://colab.research.google.com/assets/colab-badge.svg\" alt=\"Open In Colab\"/></a>"
      ]
    },
    {
      "cell_type": "markdown",
      "source": [
        "## Running All pip install necessary\n"
      ],
      "metadata": {
        "id": "uFYQYRct7Kfs"
      }
    },
    {
      "cell_type": "code",
      "source": [
        "!pip install python-sat\n",
        "!pip install pysat"
      ],
      "metadata": {
        "colab": {
          "base_uri": "https://localhost:8080/"
        },
        "id": "h-hMzNqS1Vn1",
        "outputId": "deeb9de6-3e8d-4646-8cd8-7e58207b0069"
      },
      "execution_count": 19,
      "outputs": [
        {
          "output_type": "stream",
          "name": "stdout",
          "text": [
            "Looking in indexes: https://pypi.org/simple, https://us-python.pkg.dev/colab-wheels/public/simple/\n",
            "Requirement already satisfied: python-sat in /usr/local/lib/python3.10/dist-packages (0.1.8.dev4)\n",
            "Requirement already satisfied: six in /usr/local/lib/python3.10/dist-packages (from python-sat) (1.16.0)\n",
            "Looking in indexes: https://pypi.org/simple, https://us-python.pkg.dev/colab-wheels/public/simple/\n",
            "Requirement already satisfied: pysat in /usr/local/lib/python3.10/dist-packages (3.1.0)\n",
            "Requirement already satisfied: dask in /usr/local/lib/python3.10/dist-packages (from pysat) (2022.12.1)\n",
            "Requirement already satisfied: netCDF4 in /usr/local/lib/python3.10/dist-packages (from pysat) (1.6.3)\n",
            "Requirement already satisfied: numpy in /usr/local/lib/python3.10/dist-packages (from pysat) (1.22.4)\n",
            "Requirement already satisfied: pandas in /usr/local/lib/python3.10/dist-packages (from pysat) (1.5.3)\n",
            "Requirement already satisfied: portalocker in /usr/local/lib/python3.10/dist-packages (from pysat) (2.7.0)\n",
            "Requirement already satisfied: pytest in /usr/local/lib/python3.10/dist-packages (from pysat) (7.2.2)\n",
            "Requirement already satisfied: scipy in /usr/local/lib/python3.10/dist-packages (from pysat) (1.10.1)\n",
            "Requirement already satisfied: toolz in /usr/local/lib/python3.10/dist-packages (from pysat) (0.12.0)\n",
            "Requirement already satisfied: xarray in /usr/local/lib/python3.10/dist-packages (from pysat) (2022.12.0)\n",
            "Requirement already satisfied: click>=7.0 in /usr/local/lib/python3.10/dist-packages (from dask->pysat) (8.1.3)\n",
            "Requirement already satisfied: cloudpickle>=1.1.1 in /usr/local/lib/python3.10/dist-packages (from dask->pysat) (2.2.1)\n",
            "Requirement already satisfied: fsspec>=0.6.0 in /usr/local/lib/python3.10/dist-packages (from dask->pysat) (2023.4.0)\n",
            "Requirement already satisfied: packaging>=20.0 in /usr/local/lib/python3.10/dist-packages (from dask->pysat) (23.1)\n",
            "Requirement already satisfied: partd>=0.3.10 in /usr/local/lib/python3.10/dist-packages (from dask->pysat) (1.4.0)\n",
            "Requirement already satisfied: pyyaml>=5.3.1 in /usr/local/lib/python3.10/dist-packages (from dask->pysat) (6.0)\n",
            "Requirement already satisfied: cftime in /usr/local/lib/python3.10/dist-packages (from netCDF4->pysat) (1.6.2)\n",
            "Requirement already satisfied: python-dateutil>=2.8.1 in /usr/local/lib/python3.10/dist-packages (from pandas->pysat) (2.8.2)\n",
            "Requirement already satisfied: pytz>=2020.1 in /usr/local/lib/python3.10/dist-packages (from pandas->pysat) (2022.7.1)\n",
            "Requirement already satisfied: attrs>=19.2.0 in /usr/local/lib/python3.10/dist-packages (from pytest->pysat) (23.1.0)\n",
            "Requirement already satisfied: iniconfig in /usr/local/lib/python3.10/dist-packages (from pytest->pysat) (2.0.0)\n",
            "Requirement already satisfied: pluggy<2.0,>=0.12 in /usr/local/lib/python3.10/dist-packages (from pytest->pysat) (1.0.0)\n",
            "Requirement already satisfied: exceptiongroup>=1.0.0rc8 in /usr/local/lib/python3.10/dist-packages (from pytest->pysat) (1.1.1)\n",
            "Requirement already satisfied: tomli>=1.0.0 in /usr/local/lib/python3.10/dist-packages (from pytest->pysat) (2.0.1)\n",
            "Requirement already satisfied: locket in /usr/local/lib/python3.10/dist-packages (from partd>=0.3.10->dask->pysat) (1.0.0)\n",
            "Requirement already satisfied: six>=1.5 in /usr/local/lib/python3.10/dist-packages (from python-dateutil>=2.8.1->pandas->pysat) (1.16.0)\n"
          ]
        }
      ]
    },
    {
      "cell_type": "markdown",
      "source": [
        "## Importing All functions and formulas"
      ],
      "metadata": {
        "id": "2z5TiUII6qod"
      }
    },
    {
      "cell_type": "code",
      "execution_count": 27,
      "metadata": {
        "id": "82zKD7JE6Oe7"
      },
      "outputs": [],
      "source": [
        "from formula import *\n",
        "from functions import *\n",
        "\n",
        "from pysat.solvers import Glucose3, Solver\n",
        "from pysat.formula import IDPool\n",
        "\n"
      ]
    },
    {
      "cell_type": "markdown",
      "source": [
        "## Inicitialization Solver"
      ],
      "metadata": {
        "id": "8Vlhwky869TM"
      }
    },
    {
      "cell_type": "code",
      "source": [
        "g = Glucose3()"
      ],
      "metadata": {
        "id": "4QP4uOb4031V"
      },
      "execution_count": 47,
      "outputs": []
    },
    {
      "cell_type": "markdown",
      "source": [
        "## Getting All values (slots, courses, common_courses)"
      ],
      "metadata": {
        "id": "aO_XreLH76gs"
      }
    },
    {
      "cell_type": "code",
      "source": [
        "slots = int(get_count_slots())\n",
        "courses = get_all_courses()\n",
        "common_inscriptions_courses = get_time_pairs()"
      ],
      "metadata": {
        "id": "NBm1IBky75-Y"
      },
      "execution_count": 41,
      "outputs": []
    },
    {
      "cell_type": "markdown",
      "source": [
        "## Applying all restrictions"
      ],
      "metadata": {
        "id": "2w7VYAp49BjU"
      }
    },
    {
      "cell_type": "code",
      "source": [
        "for x in range(0, len(common_inscriptions_courses)):\n",
        "    if x == 0:\n",
        "\n",
        "        common_inscriptions_courses_restrictions = turn_common_inscriptions_pair_minicourses_to_propositional_logic(common_inscriptions_courses[0][0], common_inscriptions_courses[0][1], slots)\n",
        "    else:\n",
        "        common_inscriptions_courses_restrictions = And(common_inscriptions_courses_restrictions, turn_common_inscriptions_pair_minicourses_to_propositional_logic(common_inscriptions_courses[0][0], common_inscriptions_courses[0][1], slots))\n",
        "    \n",
        "\n",
        "\n",
        "for x in range(0, len(courses)):\n",
        "    if x == 0:\n",
        "        at_least_in_one_slot_restrictions = at_least_in_one_slot(x + 1, slots)\n",
        "        max_in_one_slot_restrictions = max_in_one_slot(x + 1, slots)\n",
        "    else:\n",
        "        at_least_in_one_slot_restrictions = And(at_least_in_one_slot_restrictions, at_least_in_one_slot(x + 1, slots))\n",
        "        max_in_one_slot_restrictions = And(max_in_one_slot_restrictions, max_in_one_slot(x + 1, slots))\n",
        "\n",
        "all_restrictions = And(And(max_in_one_slot_restrictions, at_least_in_one_slot_restrictions), common_inscriptions_courses_restrictions)"
      ],
      "metadata": {
        "id": "IbRHiMJC9A3l"
      },
      "execution_count": 49,
      "outputs": []
    },
    {
      "cell_type": "markdown",
      "source": [
        "## Transforming to CNF form"
      ],
      "metadata": {
        "id": "dZUW6wC59Zek"
      }
    },
    {
      "cell_type": "code",
      "source": [
        "cnf_restrictions = cnf(all_restrictions)\n",
        "\n",
        "\n",
        "clause_form_restrictions =  parse_cnf_to_clause_form(cnf_restrictions)\n",
        "\n",
        "id_clauses = parse_clauses_to_id(clause_form_restrictions)\n",
        "\n",
        "\n",
        "clause_set = []\n",
        "id_clause_set = []\n",
        "\n",
        "for clause in clause_form_restrictions:\n",
        "    for literal in clause:\n",
        "        if literal not in clause_set:\n",
        "            clause_set.append(literal)\n",
        "\n",
        "for clause in id_clauses:\n",
        "    for literal in clause:\n",
        "        if literal not in id_clause_set:\n",
        "            id_clause_set.append(literal)\n",
        "        \n",
        "\n",
        "print(clause_set)\n",
        "print(id_clause_set)"
      ],
      "metadata": {
        "colab": {
          "base_uri": "https://localhost:8080/"
        },
        "id": "pTG_31Wg9Y4e",
        "outputId": "ccb1cf63-317c-400d-a895-ce8e0ebc6c66"
      },
      "execution_count": 45,
      "outputs": [
        {
          "output_type": "stream",
          "name": "stdout",
          "text": [
            "['¬x_1_1', '¬x_1_2', '¬x_1_3', '¬x_2_1', '¬x_2_2', '¬x_2_3', '¬x_3_1', '¬x_3_2', '¬x_3_3', '¬x_4_1', '¬x_4_2', '¬x_4_3', 'x_1_1', 'x_1_2', 'x_1_3', 'x_2_1', 'x_2_2', 'x_2_3', 'x_3_1', 'x_3_2', 'x_3_3', 'x_4_1', 'x_4_2', 'x_4_3']\n",
            "[-1, -2, -3, -4, -5, -6, -7, -8, -9, -10, -11, -12, 1, 2, 3, 4, 5, 6, 7, 8, 9, 10, 11, 12]\n"
          ]
        }
      ]
    },
    {
      "cell_type": "markdown",
      "source": [
        "## Verify Satisfability and getting Valoration"
      ],
      "metadata": {
        "id": "kDpvy6su911M"
      }
    },
    {
      "cell_type": "code",
      "source": [
        "g.append_formula(id_clauses)\n",
        "g.solve()\n",
        "valoration =  g.get_model()\n",
        "\n",
        "\n",
        "output = []\n",
        "\n",
        "print(valoration)\n",
        "for id in valoration:\n",
        "    if id > 0:\n",
        "        output.append(clause_set[id_clause_set.index(id)])\n",
        "\n",
        "print(output)\n",
        "\n",
        "for course_variable in output:\n",
        "    print(f\"O curso {course_variable[2]} ficará no horário {course_variable[4]}\")\n"
      ],
      "metadata": {
        "colab": {
          "base_uri": "https://localhost:8080/"
        },
        "id": "TU5-wxv608DT",
        "outputId": "5a6b18dd-a7e5-4fc0-a974-2f62361ed24b"
      },
      "execution_count": 50,
      "outputs": [
        {
          "output_type": "stream",
          "name": "stdout",
          "text": [
            "[-1, 2, -3, 4, -5, -6, 7, -8, -9, 10, -11, -12]\n",
            "['x_1_2', 'x_2_1', 'x_3_1', 'x_4_1']\n",
            "O curso 1 ficará no horário 2\n",
            "O curso 2 ficará no horário 1\n",
            "O curso 3 ficará no horário 1\n",
            "O curso 4 ficará no horário 1\n"
          ]
        }
      ]
    }
  ]
}