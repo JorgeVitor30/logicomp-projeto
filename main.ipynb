{
 "cells": [
  {
   "cell_type": "code",
   "execution_count": 278,
   "metadata": {},
   "outputs": [],
   "source": [
    "from formula import *\n",
    "from functions import *\n",
    "\n",
    "from pysat.solvers import Glucose3, Solver\n",
    "from pysat.formula import IDPool\n",
    "\n"
   ]
  },
  {
   "cell_type": "code",
   "execution_count": 279,
   "metadata": {},
   "outputs": [],
   "source": [
    "g = Glucose3()\n",
    "s = Solver()"
   ]
  },
  {
   "cell_type": "code",
   "execution_count": 280,
   "metadata": {},
   "outputs": [
    {
     "data": {
      "text/plain": [
       "True"
      ]
     },
     "execution_count": 280,
     "metadata": {},
     "output_type": "execute_result"
    }
   ],
   "source": [
    "calc = s.solve(assumptions=[-1,-1])\n",
    "calc"
   ]
  },
  {
   "attachments": {},
   "cell_type": "markdown",
   "metadata": {},
   "source": []
  },
  {
   "cell_type": "code",
   "execution_count": 281,
   "metadata": {},
   "outputs": [
    {
     "name": "stdout",
     "output_type": "stream",
     "text": [
      "((((¬x_1_1) ∨ (¬x_1_2)) ∧ ((¬x_1_1) ∨ (¬x_1_3))) ∧ ((¬x_1_2) ∨ (¬x_1_3)))\n"
     ]
    }
   ],
   "source": [
    "print(distributive(negation_normal_form(max_in_one_slot(1, 3))))"
   ]
  },
  {
   "cell_type": "code",
   "execution_count": 282,
   "metadata": {},
   "outputs": [
    {
     "name": "stdout",
     "output_type": "stream",
     "text": [
      "((x_1_1 ∨ x_1_2) ∨ x_1_3)\n"
     ]
    }
   ],
   "source": [
    "print(distributive(at_least_in_one_slot(1,3)))"
   ]
  },
  {
   "cell_type": "code",
   "execution_count": 283,
   "metadata": {},
   "outputs": [
    {
     "name": "stdout",
     "output_type": "stream",
     "text": [
      "[['¬x_1_1', '¬x_1_2'], ['¬x_1_1', '¬x_1_3'], ['¬x_1_2', '¬x_1_3'], ['¬x_2_1', '¬x_2_2'], ['¬x_2_1', '¬x_2_3'], ['¬x_2_2', '¬x_2_3'], ['¬x_3_1', '¬x_3_2'], ['¬x_3_1', '¬x_3_3'], ['¬x_3_2', '¬x_3_3'], ['¬x_4_1', '¬x_4_2'], ['¬x_4_1', '¬x_4_3'], ['¬x_4_2', '¬x_4_3'], ['x_1_1', 'x_1_2', 'x_1_3'], ['x_2_1', 'x_2_2', 'x_2_3'], ['x_3_1', 'x_3_2', 'x_3_3'], ['x_4_1', 'x_4_2', 'x_4_3'], ['¬x_1_1', '¬x_2_1'], ['¬x_1_2', '¬x_2_2'], ['¬x_1_3', '¬x_2_3'], ['¬x_1_1', '¬x_2_1'], ['¬x_1_2', '¬x_2_2'], ['¬x_1_3', '¬x_2_3'], ['¬x_1_1', '¬x_2_1'], ['¬x_1_2', '¬x_2_2'], ['¬x_1_3', '¬x_2_3'], ['¬x_1_1', '¬x_2_1'], ['¬x_1_2', '¬x_2_2'], ['¬x_1_3', '¬x_2_3']]\n",
      "['¬x_1_1', '¬x_1_2', '¬x_1_3', '¬x_2_1', '¬x_2_2', '¬x_2_3', '¬x_3_1', '¬x_3_2', '¬x_3_3', '¬x_4_1', '¬x_4_2', '¬x_4_3', 'x_1_1', 'x_1_2', 'x_1_3', 'x_2_1', 'x_2_2', 'x_2_3', 'x_3_1', 'x_3_2', 'x_3_3', 'x_4_1', 'x_4_2', 'x_4_3']\n",
      "[-1, -2, -3, -4, -5, -6, -7, -8, -9, -10, -11, -12, 1, 2, 3, 4, 5, 6, 7, 8, 9, 10, 11, 12]\n",
      "[-1, 2, -3, 4, -5, -6, 7, -8, -9, 10, -11, -12]\n",
      "['x_1_2', 'x_2_1', 'x_3_1', 'x_4_1']\n",
      "O curso 1 ficará no horário 2\n",
      "O curso 2 ficará no horário 1\n",
      "O curso 3 ficará no horário 1\n",
      "O curso 4 ficará no horário 1\n"
     ]
    }
   ],
   "source": [
    "\n",
    "slots = int(get_count_slots())\n",
    "courses = get_all_courses()\n",
    "common_inscriptions_courses = get_time_pairs()\n",
    "\n",
    "for x in range(0, len(common_inscriptions_courses)):\n",
    "    if x == 0:\n",
    "\n",
    "        common_inscriptions_courses_restrictions = turn_common_inscriptions_pair_minicourses_to_propositional_logic(common_inscriptions_courses[0][0], common_inscriptions_courses[0][1], slots)\n",
    "    else:\n",
    "        common_inscriptions_courses_restrictions = And(common_inscriptions_courses_restrictions, turn_common_inscriptions_pair_minicourses_to_propositional_logic(common_inscriptions_courses[0][0], common_inscriptions_courses[0][1], slots))\n",
    "    \n",
    "\n",
    "\n",
    "for x in range(0, len(courses)):\n",
    "    if x == 0:\n",
    "        at_least_in_one_slot_restrictions = at_least_in_one_slot(x + 1, slots)\n",
    "        max_in_one_slot_restrictions = max_in_one_slot(x + 1, slots)\n",
    "    else:\n",
    "        at_least_in_one_slot_restrictions = And(at_least_in_one_slot_restrictions, at_least_in_one_slot(x + 1, slots))\n",
    "        max_in_one_slot_restrictions = And(max_in_one_slot_restrictions, max_in_one_slot(x + 1, slots))\n",
    "\n",
    "all_restrictions = And(And(max_in_one_slot_restrictions, at_least_in_one_slot_restrictions), common_inscriptions_courses_restrictions)\n",
    "\n",
    "cnf_restrictions = cnf(all_restrictions)\n",
    "\n",
    "clause_form_restrictions =  parse_cnf_to_clause_form(cnf_restrictions)\n",
    "print(clause_form_restrictions)\n",
    "id_clauses = parse_clauses_to_id(clause_form_restrictions)\n",
    "\n",
    "clause_set = []\n",
    "id_clause_set = []\n",
    "\n",
    "for clause in clause_form_restrictions:\n",
    "    for literal in clause:\n",
    "        if literal not in clause_set:\n",
    "            clause_set.append(literal)\n",
    "\n",
    "for clause in id_clauses:\n",
    "    for literal in clause:\n",
    "        if literal not in id_clause_set:\n",
    "            id_clause_set.append(literal)\n",
    "        \n",
    "\n",
    "print(clause_set)\n",
    "print(id_clause_set)\n",
    "\n",
    "\n",
    "g.append_formula(id_clauses)\n",
    "g.solve()\n",
    "valoration =  g.get_model()\n",
    "\n",
    "output = []\n",
    "\n",
    "print(valoration)\n",
    "for id in valoration:\n",
    "    if id > 0:\n",
    "        output.append(clause_set[id_clause_set.index(id)])\n",
    "\n",
    "print(output)\n",
    "\n",
    "for course_variable in output:\n",
    "    print(f\"O curso {course_variable[2]} ficará no horário {course_variable[4]}\")\n"
   ]
  },
  {
   "cell_type": "code",
   "execution_count": null,
   "metadata": {},
   "outputs": [],
   "source": [
    "\n",
    "\n"
   ]
  }
 ],
 "metadata": {
  "kernelspec": {
   "display_name": "Python 3",
   "language": "python",
   "name": "python3"
  },
  "language_info": {
   "codemirror_mode": {
    "name": "ipython",
    "version": 3
   },
   "file_extension": ".py",
   "mimetype": "text/x-python",
   "name": "python",
   "nbconvert_exporter": "python",
   "pygments_lexer": "ipython3",
   "version": "3.10.6"
  },
  "orig_nbformat": 4
 },
 "nbformat": 4,
 "nbformat_minor": 2
}
