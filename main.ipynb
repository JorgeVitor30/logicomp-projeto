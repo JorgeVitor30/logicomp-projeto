{
 "cells": [
  {
   "cell_type": "code",
   "execution_count": 66,
   "metadata": {},
   "outputs": [],
   "source": [
    "from formula import *\n",
    "from functions import *\n",
    "\n",
    "from pysat.solvers import Glucose3, Solver\n",
    "\n"
   ]
  },
  {
   "cell_type": "code",
   "execution_count": 67,
   "metadata": {},
   "outputs": [],
   "source": [
    "g = Glucose3()\n",
    "s = Solver()"
   ]
  },
  {
   "cell_type": "code",
   "execution_count": 68,
   "metadata": {},
   "outputs": [
    {
     "data": {
      "text/plain": [
       "True"
      ]
     },
     "execution_count": 68,
     "metadata": {},
     "output_type": "execute_result"
    }
   ],
   "source": [
    "calc = s.solve(assumptions=[-1,-1])\n",
    "calc"
   ]
  },
  {
   "attachments": {},
   "cell_type": "markdown",
   "metadata": {},
   "source": []
  },
  {
   "cell_type": "code",
   "execution_count": 69,
   "metadata": {},
   "outputs": [
    {
     "name": "stdout",
     "output_type": "stream",
     "text": [
      "((((¬x_1_1) ∨ (¬x_1_2)) ∧ ((¬x_1_1) ∨ (¬x_1_3))) ∧ ((¬x_1_2) ∨ (¬x_1_3)))\n"
     ]
    }
   ],
   "source": [
    "print(distributive(negation_normal_form(max_in_one_slot(1, 3))))"
   ]
  },
  {
   "cell_type": "code",
   "execution_count": 70,
   "metadata": {},
   "outputs": [
    {
     "name": "stdout",
     "output_type": "stream",
     "text": [
      "((x_1_1 ∨ x_1_2) ∨ x_1_3)\n"
     ]
    }
   ],
   "source": [
    "print(distributive(at_least_in_one_slot(1,3)))"
   ]
  },
  {
   "cell_type": "code",
   "execution_count": 71,
   "metadata": {},
   "outputs": [
    {
     "name": "stdout",
     "output_type": "stream",
     "text": [
      "3\n",
      "{1: 'HTML', 2: 'PHP', 3: 'MySQL', 4: 'Swift'}\n",
      "[(1, 2), (2, 3), (2, 4), (3, 4)]\n",
      "((((((¬(x_1_1 ∧ x_2_1)) ∧ (¬(x_1_2 ∧ x_2_2))) ∧ (¬(x_1_3 ∧ x_2_3))) ∧ (((¬(x_1_1 ∧ x_2_1)) ∧ (¬(x_1_2 ∧ x_2_2))) ∧ (¬(x_1_3 ∧ x_2_3)))) ∧ (((¬(x_1_1 ∧ x_2_1)) ∧ (¬(x_1_2 ∧ x_2_2))) ∧ (¬(x_1_3 ∧ x_2_3)))) ∧ (((¬(x_1_1 ∧ x_2_1)) ∧ (¬(x_1_2 ∧ x_2_2))) ∧ (¬(x_1_3 ∧ x_2_3))))\n",
      "(((((x_1_1 ∨ x_1_2) ∨ x_1_3) ∧ ((x_2_1 ∨ x_2_2) ∨ x_2_3)) ∧ ((x_3_1 ∨ x_3_2) ∨ x_3_3)) ∧ ((x_4_1 ∨ x_4_2) ∨ x_4_3))\n",
      "((((((¬(x_1_1 ∧ x_1_2)) ∧ (¬(x_1_1 ∧ x_1_3))) ∧ (¬(x_1_2 ∧ x_1_3))) ∧ (((¬(x_2_1 ∧ x_2_2)) ∧ (¬(x_2_1 ∧ x_2_3))) ∧ (¬(x_2_2 ∧ x_2_3)))) ∧ (((¬(x_3_1 ∧ x_3_2)) ∧ (¬(x_3_1 ∧ x_3_3))) ∧ (¬(x_3_2 ∧ x_3_3)))) ∧ (((¬(x_4_1 ∧ x_4_2)) ∧ (¬(x_4_1 ∧ x_4_3))) ∧ (¬(x_4_2 ∧ x_4_3))))\n",
      "((((((((¬(x_1_1 ∧ x_1_2)) ∧ (¬(x_1_1 ∧ x_1_3))) ∧ (¬(x_1_2 ∧ x_1_3))) ∧ (((¬(x_2_1 ∧ x_2_2)) ∧ (¬(x_2_1 ∧ x_2_3))) ∧ (¬(x_2_2 ∧ x_2_3)))) ∧ (((¬(x_3_1 ∧ x_3_2)) ∧ (¬(x_3_1 ∧ x_3_3))) ∧ (¬(x_3_2 ∧ x_3_3)))) ∧ (((¬(x_4_1 ∧ x_4_2)) ∧ (¬(x_4_1 ∧ x_4_3))) ∧ (¬(x_4_2 ∧ x_4_3)))) ∧ (((((x_1_1 ∨ x_1_2) ∨ x_1_3) ∧ ((x_2_1 ∨ x_2_2) ∨ x_2_3)) ∧ ((x_3_1 ∨ x_3_2) ∨ x_3_3)) ∧ ((x_4_1 ∨ x_4_2) ∨ x_4_3))) ∧ ((((((¬(x_1_1 ∧ x_2_1)) ∧ (¬(x_1_2 ∧ x_2_2))) ∧ (¬(x_1_3 ∧ x_2_3))) ∧ (((¬(x_1_1 ∧ x_2_1)) ∧ (¬(x_1_2 ∧ x_2_2))) ∧ (¬(x_1_3 ∧ x_2_3)))) ∧ (((¬(x_1_1 ∧ x_2_1)) ∧ (¬(x_1_2 ∧ x_2_2))) ∧ (¬(x_1_3 ∧ x_2_3)))) ∧ (((¬(x_1_1 ∧ x_2_1)) ∧ (¬(x_1_2 ∧ x_2_2))) ∧ (¬(x_1_3 ∧ x_2_3)))))\n",
      "(((((((((¬x_1_1) ∨ (¬x_1_2)) ∧ ((¬x_1_1) ∨ (¬x_1_3))) ∧ ((¬x_1_2) ∨ (¬x_1_3))) ∧ ((((¬x_2_1) ∨ (¬x_2_2)) ∧ ((¬x_2_1) ∨ (¬x_2_3))) ∧ ((¬x_2_2) ∨ (¬x_2_3)))) ∧ ((((¬x_3_1) ∨ (¬x_3_2)) ∧ ((¬x_3_1) ∨ (¬x_3_3))) ∧ ((¬x_3_2) ∨ (¬x_3_3)))) ∧ ((((¬x_4_1) ∨ (¬x_4_2)) ∧ ((¬x_4_1) ∨ (¬x_4_3))) ∧ ((¬x_4_2) ∨ (¬x_4_3)))) ∧ (((((x_1_1 ∨ x_1_2) ∨ x_1_3) ∧ ((x_2_1 ∨ x_2_2) ∨ x_2_3)) ∧ ((x_3_1 ∨ x_3_2) ∨ x_3_3)) ∧ ((x_4_1 ∨ x_4_2) ∨ x_4_3))) ∧ (((((((¬x_1_1) ∨ (¬x_2_1)) ∧ ((¬x_1_2) ∨ (¬x_2_2))) ∧ ((¬x_1_3) ∨ (¬x_2_3))) ∧ ((((¬x_1_1) ∨ (¬x_2_1)) ∧ ((¬x_1_2) ∨ (¬x_2_2))) ∧ ((¬x_1_3) ∨ (¬x_2_3)))) ∧ ((((¬x_1_1) ∨ (¬x_2_1)) ∧ ((¬x_1_2) ∨ (¬x_2_2))) ∧ ((¬x_1_3) ∨ (¬x_2_3)))) ∧ ((((¬x_1_1) ∨ (¬x_2_1)) ∧ ((¬x_1_2) ∨ (¬x_2_2))) ∧ ((¬x_1_3) ∨ (¬x_2_3)))))\n"
     ]
    }
   ],
   "source": [
    "slots = int(get_count_slots())\n",
    "courses = get_all_courses()\n",
    "common_inscriptions_courses = get_time_pairs()\n",
    "print(slots)\n",
    "print(courses)\n",
    "print(common_inscriptions_courses)\n",
    "for x in range(0, len(common_inscriptions_courses)):\n",
    "    if x == 0:\n",
    "\n",
    "        common_inscriptions_courses_restrictions = turn_common_inscriptions_pair_minicourses_to_propositional_logic(common_inscriptions_courses[0][0], common_inscriptions_courses[0][1], slots)\n",
    "    else:\n",
    "        common_inscriptions_courses_restrictions = And(common_inscriptions_courses_restrictions, turn_common_inscriptions_pair_minicourses_to_propositional_logic(common_inscriptions_courses[0][0], common_inscriptions_courses[0][1], slots))\n",
    "    \n",
    "\n",
    "print(common_inscriptions_courses_restrictions)\n",
    "\n",
    "for x in range(0, len(courses)):\n",
    "    if x == 0:\n",
    "        at_least_in_one_slot_restrictions = at_least_in_one_slot(x + 1, slots)\n",
    "        max_in_one_slot_restrictions = max_in_one_slot(x + 1, slots)\n",
    "    else:\n",
    "        at_least_in_one_slot_restrictions = And(at_least_in_one_slot_restrictions, at_least_in_one_slot(x + 1, slots))\n",
    "        max_in_one_slot_restrictions = And(max_in_one_slot_restrictions, max_in_one_slot(x + 1, slots))\n",
    "\n",
    "print(at_least_in_one_slot_restrictions)\n",
    "print(max_in_one_slot_restrictions)\n",
    "\n",
    "all_restrictions = And(And(max_in_one_slot_restrictions, at_least_in_one_slot_restrictions), common_inscriptions_courses_restrictions)\n",
    "print(all_restrictions)\n",
    "\n",
    "cnf_restrictions = cnf(all_restrictions)\n",
    "print(cnf_restrictions)\n"
   ]
  }
 ],
 "metadata": {
  "kernelspec": {
   "display_name": "Python 3",
   "language": "python",
   "name": "python3"
  },
  "language_info": {
   "codemirror_mode": {
    "name": "ipython",
    "version": 3
   },
   "file_extension": ".py",
   "mimetype": "text/x-python",
   "name": "python",
   "nbconvert_exporter": "python",
   "pygments_lexer": "ipython3",
   "version": "3.10.6"
  },
  "orig_nbformat": 4
 },
 "nbformat": 4,
 "nbformat_minor": 2
}
